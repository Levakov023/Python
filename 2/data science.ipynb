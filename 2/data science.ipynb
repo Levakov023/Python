{
 "cells": [
  {
   "cell_type": "code",
   "execution_count": 88,
   "metadata": {
    "pycharm": {
     "name": "#%%\n"
    }
   },
   "outputs": [],
   "source": [
    "import pandas as pd\n",
    "import spacy\n",
    "import sklearn\n",
    "import json\n",
    "import requests\n",
    "import matplotlib.pyplot as plt\n"
   ]
  },
  {
   "cell_type": "code",
   "execution_count": 89,
   "metadata": {
    "pycharm": {
     "name": "#%%\n"
    }
   },
   "outputs": [],
   "source": [
    "\n",
    "\n",
    "descriptive = pd.read_csv(\"descriptive_attributes.csv\")\n",
    "numeric = pd.read_csv(\"numeric_attributes.csv\", low_memory = False)"
   ]
  },
  {
   "cell_type": "code",
   "execution_count": 90,
   "metadata": {
    "pycharm": {
     "name": "#%%\n"
    }
   },
   "outputs": [
    {
     "data": {
      "text/plain": "          movieID  isAdult  startYear endYear  runtimeMinutes  averageRating   \n0       tt0034371        0       1941      \\N              58            4.7  \\\n1       tt0148665        0       1941      \\N               7            6.5   \n2       tt1032841        0       2006      \\N              60            3.8   \n3       tt1495820        0       1998      \\N              10            5.6   \n4       tt0115768        0       1996      \\N              90            6.3   \n...           ...      ...        ...     ...             ...            ...   \n476276  tt0039160        0       1947      \\N              86            5.7   \n476277  tt1199779        0       2013      \\N              81            3.3   \n476278  tt3186036        0       2013      \\N             108            8.2   \n476279  tt0836660        0       2002      \\N             162            7.9   \n476280  tt0839776        0       2006      \\N               7            7.5   \n\n        numVotes isGood  \n0           29.0  False  \n1           16.0  False  \n2            6.0  False  \n3            8.0  False  \n4           25.0  False  \n...          ...    ...  \n476276     408.0    NaN  \n476277     353.0    NaN  \n476278     125.0    NaN  \n476279      39.0    NaN  \n476280      21.0    NaN  \n\n[476281 rows x 8 columns]",
      "text/html": "<div>\n<style scoped>\n    .dataframe tbody tr th:only-of-type {\n        vertical-align: middle;\n    }\n\n    .dataframe tbody tr th {\n        vertical-align: top;\n    }\n\n    .dataframe thead th {\n        text-align: right;\n    }\n</style>\n<table border=\"1\" class=\"dataframe\">\n  <thead>\n    <tr style=\"text-align: right;\">\n      <th></th>\n      <th>movieID</th>\n      <th>isAdult</th>\n      <th>startYear</th>\n      <th>endYear</th>\n      <th>runtimeMinutes</th>\n      <th>averageRating</th>\n      <th>numVotes</th>\n      <th>isGood</th>\n    </tr>\n  </thead>\n  <tbody>\n    <tr>\n      <th>0</th>\n      <td>tt0034371</td>\n      <td>0</td>\n      <td>1941</td>\n      <td>\\N</td>\n      <td>58</td>\n      <td>4.7</td>\n      <td>29.0</td>\n      <td>False</td>\n    </tr>\n    <tr>\n      <th>1</th>\n      <td>tt0148665</td>\n      <td>0</td>\n      <td>1941</td>\n      <td>\\N</td>\n      <td>7</td>\n      <td>6.5</td>\n      <td>16.0</td>\n      <td>False</td>\n    </tr>\n    <tr>\n      <th>2</th>\n      <td>tt1032841</td>\n      <td>0</td>\n      <td>2006</td>\n      <td>\\N</td>\n      <td>60</td>\n      <td>3.8</td>\n      <td>6.0</td>\n      <td>False</td>\n    </tr>\n    <tr>\n      <th>3</th>\n      <td>tt1495820</td>\n      <td>0</td>\n      <td>1998</td>\n      <td>\\N</td>\n      <td>10</td>\n      <td>5.6</td>\n      <td>8.0</td>\n      <td>False</td>\n    </tr>\n    <tr>\n      <th>4</th>\n      <td>tt0115768</td>\n      <td>0</td>\n      <td>1996</td>\n      <td>\\N</td>\n      <td>90</td>\n      <td>6.3</td>\n      <td>25.0</td>\n      <td>False</td>\n    </tr>\n    <tr>\n      <th>...</th>\n      <td>...</td>\n      <td>...</td>\n      <td>...</td>\n      <td>...</td>\n      <td>...</td>\n      <td>...</td>\n      <td>...</td>\n      <td>...</td>\n    </tr>\n    <tr>\n      <th>476276</th>\n      <td>tt0039160</td>\n      <td>0</td>\n      <td>1947</td>\n      <td>\\N</td>\n      <td>86</td>\n      <td>5.7</td>\n      <td>408.0</td>\n      <td>NaN</td>\n    </tr>\n    <tr>\n      <th>476277</th>\n      <td>tt1199779</td>\n      <td>0</td>\n      <td>2013</td>\n      <td>\\N</td>\n      <td>81</td>\n      <td>3.3</td>\n      <td>353.0</td>\n      <td>NaN</td>\n    </tr>\n    <tr>\n      <th>476278</th>\n      <td>tt3186036</td>\n      <td>0</td>\n      <td>2013</td>\n      <td>\\N</td>\n      <td>108</td>\n      <td>8.2</td>\n      <td>125.0</td>\n      <td>NaN</td>\n    </tr>\n    <tr>\n      <th>476279</th>\n      <td>tt0836660</td>\n      <td>0</td>\n      <td>2002</td>\n      <td>\\N</td>\n      <td>162</td>\n      <td>7.9</td>\n      <td>39.0</td>\n      <td>NaN</td>\n    </tr>\n    <tr>\n      <th>476280</th>\n      <td>tt0839776</td>\n      <td>0</td>\n      <td>2006</td>\n      <td>\\N</td>\n      <td>7</td>\n      <td>7.5</td>\n      <td>21.0</td>\n      <td>NaN</td>\n    </tr>\n  </tbody>\n</table>\n<p>476281 rows × 8 columns</p>\n</div>"
     },
     "execution_count": 90,
     "metadata": {},
     "output_type": "execute_result"
    }
   ],
   "source": [
    "numeric\n"
   ]
  },
  {
   "cell_type": "code",
   "execution_count": 91,
   "metadata": {
    "pycharm": {
     "name": "#%%\n"
    }
   },
   "outputs": [
    {
     "data": {
      "text/plain": "          movieID     titleType            primaryTitle   \n0       tt0078593      tvSeries              Danger UXB  \\\n1       tt0237094         movie                 Chenkol   \n2       tt0033559         movie        The Driftin' Kid   \n3       tt6819788      tvSeries         Hospital People   \n4       tt1555199       tvMovie           Lindsey's Way   \n...           ...           ...                     ...   \n466276  tt1288649       tvMovie      Un homme d'honneur   \n466277  tt1446672         movie          A Kiss for Jed   \n466278  tt0388936       tvMovie        Fathers and Sons   \n466279  tt0118489  tvMiniSeries        Thomas Jefferson   \n466280  tt8420670       tvMovie  Last Vermont Christmas   \n\n                 originalTitle                genres  \n0                   Danger UXB  Action,Drama,History  \n1                      Chenkol          Action,Drama  \n2             The Driftin' Kid               Western  \n3              Hospital People                Comedy  \n4                Lindsey's Way                 Drama  \n...                        ...                   ...  \n466276      Un homme d'honneur                   NaN  \n466277     A Kiss for Jed Wood                   NaN  \n466278        Fathers and Sons                   NaN  \n466279        Thomas Jefferson                   NaN  \n466280  Last Vermont Christmas                   NaN  \n\n[466281 rows x 5 columns]",
      "text/html": "<div>\n<style scoped>\n    .dataframe tbody tr th:only-of-type {\n        vertical-align: middle;\n    }\n\n    .dataframe tbody tr th {\n        vertical-align: top;\n    }\n\n    .dataframe thead th {\n        text-align: right;\n    }\n</style>\n<table border=\"1\" class=\"dataframe\">\n  <thead>\n    <tr style=\"text-align: right;\">\n      <th></th>\n      <th>movieID</th>\n      <th>titleType</th>\n      <th>primaryTitle</th>\n      <th>originalTitle</th>\n      <th>genres</th>\n    </tr>\n  </thead>\n  <tbody>\n    <tr>\n      <th>0</th>\n      <td>tt0078593</td>\n      <td>tvSeries</td>\n      <td>Danger UXB</td>\n      <td>Danger UXB</td>\n      <td>Action,Drama,History</td>\n    </tr>\n    <tr>\n      <th>1</th>\n      <td>tt0237094</td>\n      <td>movie</td>\n      <td>Chenkol</td>\n      <td>Chenkol</td>\n      <td>Action,Drama</td>\n    </tr>\n    <tr>\n      <th>2</th>\n      <td>tt0033559</td>\n      <td>movie</td>\n      <td>The Driftin' Kid</td>\n      <td>The Driftin' Kid</td>\n      <td>Western</td>\n    </tr>\n    <tr>\n      <th>3</th>\n      <td>tt6819788</td>\n      <td>tvSeries</td>\n      <td>Hospital People</td>\n      <td>Hospital People</td>\n      <td>Comedy</td>\n    </tr>\n    <tr>\n      <th>4</th>\n      <td>tt1555199</td>\n      <td>tvMovie</td>\n      <td>Lindsey's Way</td>\n      <td>Lindsey's Way</td>\n      <td>Drama</td>\n    </tr>\n    <tr>\n      <th>...</th>\n      <td>...</td>\n      <td>...</td>\n      <td>...</td>\n      <td>...</td>\n      <td>...</td>\n    </tr>\n    <tr>\n      <th>466276</th>\n      <td>tt1288649</td>\n      <td>tvMovie</td>\n      <td>Un homme d'honneur</td>\n      <td>Un homme d'honneur</td>\n      <td>NaN</td>\n    </tr>\n    <tr>\n      <th>466277</th>\n      <td>tt1446672</td>\n      <td>movie</td>\n      <td>A Kiss for Jed</td>\n      <td>A Kiss for Jed Wood</td>\n      <td>NaN</td>\n    </tr>\n    <tr>\n      <th>466278</th>\n      <td>tt0388936</td>\n      <td>tvMovie</td>\n      <td>Fathers and Sons</td>\n      <td>Fathers and Sons</td>\n      <td>NaN</td>\n    </tr>\n    <tr>\n      <th>466279</th>\n      <td>tt0118489</td>\n      <td>tvMiniSeries</td>\n      <td>Thomas Jefferson</td>\n      <td>Thomas Jefferson</td>\n      <td>NaN</td>\n    </tr>\n    <tr>\n      <th>466280</th>\n      <td>tt8420670</td>\n      <td>tvMovie</td>\n      <td>Last Vermont Christmas</td>\n      <td>Last Vermont Christmas</td>\n      <td>NaN</td>\n    </tr>\n  </tbody>\n</table>\n<p>466281 rows × 5 columns</p>\n</div>"
     },
     "execution_count": 91,
     "metadata": {},
     "output_type": "execute_result"
    }
   ],
   "source": [
    "descriptive"
   ]
  },
  {
   "cell_type": "code",
   "execution_count": 92,
   "metadata": {
    "pycharm": {
     "name": "#%%\n"
    }
   },
   "outputs": [],
   "source": [
    "df = pd.merge(descriptive, numeric, on=\"movieID\", how=\"inner\")"
   ]
  },
  {
   "cell_type": "code",
   "execution_count": 93,
   "metadata": {
    "pycharm": {
     "name": "#%%\n"
    }
   },
   "outputs": [
    {
     "data": {
      "text/plain": "          movieID     titleType            primaryTitle   \n0       tt0078593      tvSeries              Danger UXB  \\\n1       tt0237094         movie                 Chenkol   \n2       tt0033559         movie        The Driftin' Kid   \n3       tt6819788      tvSeries         Hospital People   \n4       tt1555199       tvMovie           Lindsey's Way   \n...           ...           ...                     ...   \n438692  tt1288649       tvMovie      Un homme d'honneur   \n438693  tt1446672         movie          A Kiss for Jed   \n438694  tt0388936       tvMovie        Fathers and Sons   \n438695  tt0118489  tvMiniSeries        Thomas Jefferson   \n438696  tt8420670       tvMovie  Last Vermont Christmas   \n\n                 originalTitle                genres  isAdult  startYear   \n0                   Danger UXB  Action,Drama,History        0       1979  \\\n1                      Chenkol          Action,Drama        0       1993   \n2             The Driftin' Kid               Western        0       1941   \n3              Hospital People                Comedy        0       2017   \n4                Lindsey's Way                 Drama        0       2009   \n...                        ...                   ...      ...        ...   \n438692      Un homme d'honneur                   NaN        0       2009   \n438693     A Kiss for Jed Wood                   NaN        0       2011   \n438694        Fathers and Sons                   NaN        0       2005   \n438695        Thomas Jefferson                   NaN        0       1997   \n438696  Last Vermont Christmas                   NaN        0       2018   \n\n       endYear  runtimeMinutes  averageRating  numVotes isGood  \n0         1979              60            8.5     952.0  False  \n1           \\N             163            7.8     790.0  False  \n2           \\N              57            5.9      34.0  False  \n3           \\N              28            5.4     177.0  False  \n4           \\N              60            5.7      15.0  False  \n...        ...             ...            ...       ...    ...  \n438692      \\N              95            7.1      38.0  False  \n438693      \\N              86            6.9      74.0  False  \n438694      \\N             101            6.0     400.0   True  \n438695      \\N             180            7.7     727.0  False  \n438696      \\N              76            5.8     987.0   True  \n\n[438697 rows x 12 columns]",
      "text/html": "<div>\n<style scoped>\n    .dataframe tbody tr th:only-of-type {\n        vertical-align: middle;\n    }\n\n    .dataframe tbody tr th {\n        vertical-align: top;\n    }\n\n    .dataframe thead th {\n        text-align: right;\n    }\n</style>\n<table border=\"1\" class=\"dataframe\">\n  <thead>\n    <tr style=\"text-align: right;\">\n      <th></th>\n      <th>movieID</th>\n      <th>titleType</th>\n      <th>primaryTitle</th>\n      <th>originalTitle</th>\n      <th>genres</th>\n      <th>isAdult</th>\n      <th>startYear</th>\n      <th>endYear</th>\n      <th>runtimeMinutes</th>\n      <th>averageRating</th>\n      <th>numVotes</th>\n      <th>isGood</th>\n    </tr>\n  </thead>\n  <tbody>\n    <tr>\n      <th>0</th>\n      <td>tt0078593</td>\n      <td>tvSeries</td>\n      <td>Danger UXB</td>\n      <td>Danger UXB</td>\n      <td>Action,Drama,History</td>\n      <td>0</td>\n      <td>1979</td>\n      <td>1979</td>\n      <td>60</td>\n      <td>8.5</td>\n      <td>952.0</td>\n      <td>False</td>\n    </tr>\n    <tr>\n      <th>1</th>\n      <td>tt0237094</td>\n      <td>movie</td>\n      <td>Chenkol</td>\n      <td>Chenkol</td>\n      <td>Action,Drama</td>\n      <td>0</td>\n      <td>1993</td>\n      <td>\\N</td>\n      <td>163</td>\n      <td>7.8</td>\n      <td>790.0</td>\n      <td>False</td>\n    </tr>\n    <tr>\n      <th>2</th>\n      <td>tt0033559</td>\n      <td>movie</td>\n      <td>The Driftin' Kid</td>\n      <td>The Driftin' Kid</td>\n      <td>Western</td>\n      <td>0</td>\n      <td>1941</td>\n      <td>\\N</td>\n      <td>57</td>\n      <td>5.9</td>\n      <td>34.0</td>\n      <td>False</td>\n    </tr>\n    <tr>\n      <th>3</th>\n      <td>tt6819788</td>\n      <td>tvSeries</td>\n      <td>Hospital People</td>\n      <td>Hospital People</td>\n      <td>Comedy</td>\n      <td>0</td>\n      <td>2017</td>\n      <td>\\N</td>\n      <td>28</td>\n      <td>5.4</td>\n      <td>177.0</td>\n      <td>False</td>\n    </tr>\n    <tr>\n      <th>4</th>\n      <td>tt1555199</td>\n      <td>tvMovie</td>\n      <td>Lindsey's Way</td>\n      <td>Lindsey's Way</td>\n      <td>Drama</td>\n      <td>0</td>\n      <td>2009</td>\n      <td>\\N</td>\n      <td>60</td>\n      <td>5.7</td>\n      <td>15.0</td>\n      <td>False</td>\n    </tr>\n    <tr>\n      <th>...</th>\n      <td>...</td>\n      <td>...</td>\n      <td>...</td>\n      <td>...</td>\n      <td>...</td>\n      <td>...</td>\n      <td>...</td>\n      <td>...</td>\n      <td>...</td>\n      <td>...</td>\n      <td>...</td>\n      <td>...</td>\n    </tr>\n    <tr>\n      <th>438692</th>\n      <td>tt1288649</td>\n      <td>tvMovie</td>\n      <td>Un homme d'honneur</td>\n      <td>Un homme d'honneur</td>\n      <td>NaN</td>\n      <td>0</td>\n      <td>2009</td>\n      <td>\\N</td>\n      <td>95</td>\n      <td>7.1</td>\n      <td>38.0</td>\n      <td>False</td>\n    </tr>\n    <tr>\n      <th>438693</th>\n      <td>tt1446672</td>\n      <td>movie</td>\n      <td>A Kiss for Jed</td>\n      <td>A Kiss for Jed Wood</td>\n      <td>NaN</td>\n      <td>0</td>\n      <td>2011</td>\n      <td>\\N</td>\n      <td>86</td>\n      <td>6.9</td>\n      <td>74.0</td>\n      <td>False</td>\n    </tr>\n    <tr>\n      <th>438694</th>\n      <td>tt0388936</td>\n      <td>tvMovie</td>\n      <td>Fathers and Sons</td>\n      <td>Fathers and Sons</td>\n      <td>NaN</td>\n      <td>0</td>\n      <td>2005</td>\n      <td>\\N</td>\n      <td>101</td>\n      <td>6.0</td>\n      <td>400.0</td>\n      <td>True</td>\n    </tr>\n    <tr>\n      <th>438695</th>\n      <td>tt0118489</td>\n      <td>tvMiniSeries</td>\n      <td>Thomas Jefferson</td>\n      <td>Thomas Jefferson</td>\n      <td>NaN</td>\n      <td>0</td>\n      <td>1997</td>\n      <td>\\N</td>\n      <td>180</td>\n      <td>7.7</td>\n      <td>727.0</td>\n      <td>False</td>\n    </tr>\n    <tr>\n      <th>438696</th>\n      <td>tt8420670</td>\n      <td>tvMovie</td>\n      <td>Last Vermont Christmas</td>\n      <td>Last Vermont Christmas</td>\n      <td>NaN</td>\n      <td>0</td>\n      <td>2018</td>\n      <td>\\N</td>\n      <td>76</td>\n      <td>5.8</td>\n      <td>987.0</td>\n      <td>True</td>\n    </tr>\n  </tbody>\n</table>\n<p>438697 rows × 12 columns</p>\n</div>"
     },
     "execution_count": 93,
     "metadata": {},
     "output_type": "execute_result"
    }
   ],
   "source": [
    "df"
   ]
  },
  {
   "cell_type": "code",
   "execution_count": 94,
   "outputs": [],
   "source": [
    "IsGood_null_count = df[\"isGood\"].isnull().sum()"
   ],
   "metadata": {
    "collapsed": false,
    "pycharm": {
     "name": "#%%\n"
    }
   }
  },
  {
   "cell_type": "code",
   "execution_count": 95,
   "outputs": [],
   "source": [
    "IsGood_null_count\n",
    "mean = df[\"averageRating\"].mean()"
   ],
   "metadata": {
    "collapsed": false,
    "pycharm": {
     "name": "#%%\n"
    }
   }
  },
  {
   "cell_type": "code",
   "execution_count": 99,
   "outputs": [
    {
     "data": {
      "text/plain": "6.455673725690632"
     },
     "execution_count": 99,
     "metadata": {},
     "output_type": "execute_result"
    }
   ],
   "source": [
    "mean\n"
   ],
   "metadata": {
    "collapsed": false,
    "pycharm": {
     "name": "#%%\n"
    }
   }
  },
  {
   "cell_type": "code",
   "execution_count": 11,
   "metadata": {
    "pycharm": {
     "name": "#%%\n"
    }
   },
   "outputs": [],
   "source": [
    "df[\"averageRating\"].fillna(mean, inplace = True)"
   ]
  },
  {
   "cell_type": "code",
   "execution_count": 12,
   "outputs": [
    {
     "data": {
      "text/plain": "0"
     },
     "execution_count": 12,
     "metadata": {},
     "output_type": "execute_result"
    }
   ],
   "source": [
    "df[\"averageRating\"].isna().sum()"
   ],
   "metadata": {
    "collapsed": false,
    "pycharm": {
     "name": "#%%\n"
    }
   }
  },
  {
   "cell_type": "code",
   "execution_count": 103,
   "outputs": [],
   "source": [
    "next_data = df[(df[\"startYear\"] > 2000) & (df[\"averageRating\"] > 3)]"
   ],
   "metadata": {
    "collapsed": false,
    "pycharm": {
     "name": "#%%\n"
    }
   }
  },
  {
   "cell_type": "code",
   "execution_count": 104,
   "outputs": [
    {
     "data": {
      "text/plain": "           movieID titleType                     primaryTitle   \n3        tt6819788  tvSeries                  Hospital People  \\\n4        tt1555199   tvMovie                    Lindsey's Way   \n6        tt0412225  tvSeries  The Rise of the Celebrity Class   \n8       tt13286468  tvSeries               I tourta tis mamas   \n10      tt13550066     movie                 10 Steps to Love   \n...            ...       ...                              ...   \n438690   tt2207435     short                      Anticyclone   \n438692   tt1288649   tvMovie               Un homme d'honneur   \n438693   tt1446672     movie                   A Kiss for Jed   \n438694   tt0388936   tvMovie                 Fathers and Sons   \n438696   tt8420670   tvMovie           Last Vermont Christmas   \n\n                          originalTitle       genres  isAdult  startYear   \n3                       Hospital People       Comedy        0       2017  \\\n4                         Lindsey's Way        Drama        0       2009   \n6       The Rise of the Celebrity Class  Documentary        0       2004   \n8                    I tourta tis mamas       Comedy        0       2020   \n10                     10 Steps to Love      Romance        0       2021   \n...                                 ...          ...      ...        ...   \n438690                      Anticyclone          NaN        0       2011   \n438692               Un homme d'honneur          NaN        0       2009   \n438693              A Kiss for Jed Wood          NaN        0       2011   \n438694                 Fathers and Sons          NaN        0       2005   \n438696           Last Vermont Christmas          NaN        0       2018   \n\n       endYear  runtimeMinutes  averageRating  numVotes isGood  \n3           \\N              28            5.4     177.0  False  \n4           \\N              60            5.7      15.0  False  \n6           \\N             200            6.8      20.0  False  \n8           \\N              60            8.2     182.0  False  \n10          \\N              90            7.7      19.0  False  \n...        ...             ...            ...       ...    ...  \n438690      \\N               9            6.5      13.0    NaN  \n438692      \\N              95            7.1      38.0  False  \n438693      \\N              86            6.9      74.0  False  \n438694      \\N             101            6.0     400.0   True  \n438696      \\N              76            5.8     987.0   True  \n\n[267543 rows x 12 columns]",
      "text/html": "<div>\n<style scoped>\n    .dataframe tbody tr th:only-of-type {\n        vertical-align: middle;\n    }\n\n    .dataframe tbody tr th {\n        vertical-align: top;\n    }\n\n    .dataframe thead th {\n        text-align: right;\n    }\n</style>\n<table border=\"1\" class=\"dataframe\">\n  <thead>\n    <tr style=\"text-align: right;\">\n      <th></th>\n      <th>movieID</th>\n      <th>titleType</th>\n      <th>primaryTitle</th>\n      <th>originalTitle</th>\n      <th>genres</th>\n      <th>isAdult</th>\n      <th>startYear</th>\n      <th>endYear</th>\n      <th>runtimeMinutes</th>\n      <th>averageRating</th>\n      <th>numVotes</th>\n      <th>isGood</th>\n    </tr>\n  </thead>\n  <tbody>\n    <tr>\n      <th>3</th>\n      <td>tt6819788</td>\n      <td>tvSeries</td>\n      <td>Hospital People</td>\n      <td>Hospital People</td>\n      <td>Comedy</td>\n      <td>0</td>\n      <td>2017</td>\n      <td>\\N</td>\n      <td>28</td>\n      <td>5.4</td>\n      <td>177.0</td>\n      <td>False</td>\n    </tr>\n    <tr>\n      <th>4</th>\n      <td>tt1555199</td>\n      <td>tvMovie</td>\n      <td>Lindsey's Way</td>\n      <td>Lindsey's Way</td>\n      <td>Drama</td>\n      <td>0</td>\n      <td>2009</td>\n      <td>\\N</td>\n      <td>60</td>\n      <td>5.7</td>\n      <td>15.0</td>\n      <td>False</td>\n    </tr>\n    <tr>\n      <th>6</th>\n      <td>tt0412225</td>\n      <td>tvSeries</td>\n      <td>The Rise of the Celebrity Class</td>\n      <td>The Rise of the Celebrity Class</td>\n      <td>Documentary</td>\n      <td>0</td>\n      <td>2004</td>\n      <td>\\N</td>\n      <td>200</td>\n      <td>6.8</td>\n      <td>20.0</td>\n      <td>False</td>\n    </tr>\n    <tr>\n      <th>8</th>\n      <td>tt13286468</td>\n      <td>tvSeries</td>\n      <td>I tourta tis mamas</td>\n      <td>I tourta tis mamas</td>\n      <td>Comedy</td>\n      <td>0</td>\n      <td>2020</td>\n      <td>\\N</td>\n      <td>60</td>\n      <td>8.2</td>\n      <td>182.0</td>\n      <td>False</td>\n    </tr>\n    <tr>\n      <th>10</th>\n      <td>tt13550066</td>\n      <td>movie</td>\n      <td>10 Steps to Love</td>\n      <td>10 Steps to Love</td>\n      <td>Romance</td>\n      <td>0</td>\n      <td>2021</td>\n      <td>\\N</td>\n      <td>90</td>\n      <td>7.7</td>\n      <td>19.0</td>\n      <td>False</td>\n    </tr>\n    <tr>\n      <th>...</th>\n      <td>...</td>\n      <td>...</td>\n      <td>...</td>\n      <td>...</td>\n      <td>...</td>\n      <td>...</td>\n      <td>...</td>\n      <td>...</td>\n      <td>...</td>\n      <td>...</td>\n      <td>...</td>\n      <td>...</td>\n    </tr>\n    <tr>\n      <th>438690</th>\n      <td>tt2207435</td>\n      <td>short</td>\n      <td>Anticyclone</td>\n      <td>Anticyclone</td>\n      <td>NaN</td>\n      <td>0</td>\n      <td>2011</td>\n      <td>\\N</td>\n      <td>9</td>\n      <td>6.5</td>\n      <td>13.0</td>\n      <td>NaN</td>\n    </tr>\n    <tr>\n      <th>438692</th>\n      <td>tt1288649</td>\n      <td>tvMovie</td>\n      <td>Un homme d'honneur</td>\n      <td>Un homme d'honneur</td>\n      <td>NaN</td>\n      <td>0</td>\n      <td>2009</td>\n      <td>\\N</td>\n      <td>95</td>\n      <td>7.1</td>\n      <td>38.0</td>\n      <td>False</td>\n    </tr>\n    <tr>\n      <th>438693</th>\n      <td>tt1446672</td>\n      <td>movie</td>\n      <td>A Kiss for Jed</td>\n      <td>A Kiss for Jed Wood</td>\n      <td>NaN</td>\n      <td>0</td>\n      <td>2011</td>\n      <td>\\N</td>\n      <td>86</td>\n      <td>6.9</td>\n      <td>74.0</td>\n      <td>False</td>\n    </tr>\n    <tr>\n      <th>438694</th>\n      <td>tt0388936</td>\n      <td>tvMovie</td>\n      <td>Fathers and Sons</td>\n      <td>Fathers and Sons</td>\n      <td>NaN</td>\n      <td>0</td>\n      <td>2005</td>\n      <td>\\N</td>\n      <td>101</td>\n      <td>6.0</td>\n      <td>400.0</td>\n      <td>True</td>\n    </tr>\n    <tr>\n      <th>438696</th>\n      <td>tt8420670</td>\n      <td>tvMovie</td>\n      <td>Last Vermont Christmas</td>\n      <td>Last Vermont Christmas</td>\n      <td>NaN</td>\n      <td>0</td>\n      <td>2018</td>\n      <td>\\N</td>\n      <td>76</td>\n      <td>5.8</td>\n      <td>987.0</td>\n      <td>True</td>\n    </tr>\n  </tbody>\n</table>\n<p>267543 rows × 12 columns</p>\n</div>"
     },
     "execution_count": 104,
     "metadata": {},
     "output_type": "execute_result"
    }
   ],
   "source": [
    "next_data"
   ],
   "metadata": {
    "collapsed": false,
    "pycharm": {
     "name": "#%%\n"
    }
   }
  },
  {
   "cell_type": "code",
   "execution_count": 105,
   "outputs": [
    {
     "data": {
      "text/plain": "267543"
     },
     "execution_count": 105,
     "metadata": {},
     "output_type": "execute_result"
    }
   ],
   "source": [
    "len(next_data)"
   ],
   "metadata": {
    "collapsed": false,
    "pycharm": {
     "name": "#%%\n"
    }
   }
  },
  {
   "cell_type": "code",
   "execution_count": 106,
   "outputs": [
    {
     "data": {
      "text/plain": "Text(0, 0.5, 'broj filmova')"
     },
     "execution_count": 106,
     "metadata": {},
     "output_type": "execute_result"
    },
    {
     "data": {
      "text/plain": "<Figure size 640x480 with 1 Axes>",
      "image/png": "[encoded data removed]"
     },
     "metadata": {},
     "output_type": "display_data"
    }
   ],
   "source": [
    "plt.hist(df[\"averageRating\"], bins=10)\n",
    "plt.title(\"histogram prosečne ocene\")\n",
    "plt.xlabel(\"ocena\")\n",
    "plt.ylabel(\"broj filmova\")"
   ],
   "metadata": {
    "collapsed": false,
    "pycharm": {
     "name": "#%%\n"
    }
   }
  },
  {
   "cell_type": "code",
   "execution_count": 107,
   "outputs": [],
   "source": [
    "avg_rating_by_genre = df.groupby(\"titleType\")[\"averageRating\"].mean()"
   ],
   "metadata": {
    "collapsed": false,
    "pycharm": {
     "name": "#%%\n"
    }
   }
  },
  {
   "cell_type": "code",
   "execution_count": 109,
   "outputs": [
    {
     "data": {
      "text/plain": "titleType\nmovie           6.142533\nshort           6.822709\ntvMiniSeries    7.110391\ntvMovie         6.578624\ntvSeries        6.815256\ntvShort         6.874603\ntvSpecial       6.870781\nvideo           6.502115\nvideoGame       6.740909\nName: averageRating, dtype: float64"
     },
     "execution_count": 109,
     "metadata": {},
     "output_type": "execute_result"
    }
   ],
   "source": [
    "avg_rating_by_genre"
   ],
   "metadata": {
    "collapsed": false,
    "pycharm": {
     "name": "#%%\n"
    }
   }
  },
  {
   "cell_type": "code",
   "execution_count": 51,
   "outputs": [
    {
     "name": "stdout",
     "output_type": "stream",
     "text": [
      "Collecting en-core-web-sm==3.5.0\n",
      "  Downloading https://github.com/explosion/spacy-models/releases/download/en_core_web_sm-3.5.0/en_core_web_sm-3.5.0-py3-none-any.whl (12.8 MB)\n",
      "Requirement already satisfied: spacy<3.6.0,>=3.5.0 in c:\\users\\korisnik\\pycharmprojects\\intens_solutions\\lib\\site-packages (from en-core-web-sm==3.5.0) (3.5.2)\n",
      "Requirement already satisfied: wasabi<1.2.0,>=0.9.1 in c:\\users\\korisnik\\pycharmprojects\\intens_solutions\\lib\\site-packages (from spacy<3.6.0,>=3.5.0->en-core-web-sm==3.5.0) (1.1.1)\n",
      "Requirement already satisfied: smart-open<7.0.0,>=5.2.1 in c:\\users\\korisnik\\pycharmprojects\\intens_solutions\\lib\\site-packages (from spacy<3.6.0,>=3.5.0->en-core-web-sm==3.5.0) (6.3.0)\n",
      "Requirement already satisfied: thinc<8.2.0,>=8.1.8 in c:\\users\\korisnik\\pycharmprojects\\intens_solutions\\lib\\site-packages (from spacy<3.6.0,>=3.5.0->en-core-web-sm==3.5.0) (8.1.9)\n",
      "Requirement already satisfied: catalogue<2.1.0,>=2.0.6 in c:\\users\\korisnik\\pycharmprojects\\intens_solutions\\lib\\site-packages (from spacy<3.6.0,>=3.5.0->en-core-web-sm==3.5.0) (2.0.8)\n",
      "Requirement already satisfied: jinja2 in c:\\users\\korisnik\\pycharmprojects\\intens_solutions\\lib\\site-packages (from spacy<3.6.0,>=3.5.0->en-core-web-sm==3.5.0) (3.1.2)\n",
      "Requirement already satisfied: setuptools in c:\\users\\korisnik\\pycharmprojects\\intens_solutions\\lib\\site-packages (from spacy<3.6.0,>=3.5.0->en-core-web-sm==3.5.0) (60.2.0)\n",
      "Requirement already satisfied: spacy-loggers<2.0.0,>=1.0.0 in c:\\users\\korisnik\\pycharmprojects\\intens_solutions\\lib\\site-packages (from spacy<3.6.0,>=3.5.0->en-core-web-sm==3.5.0) (1.0.4)\n",
      "Requirement already satisfied: tqdm<5.0.0,>=4.38.0 in c:\\users\\korisnik\\pycharmprojects\\intens_solutions\\lib\\site-packages (from spacy<3.6.0,>=3.5.0->en-core-web-sm==3.5.0) (4.65.0)\n",
      "Requirement already satisfied: srsly<3.0.0,>=2.4.3 in c:\\users\\korisnik\\pycharmprojects\\intens_solutions\\lib\\site-packages (from spacy<3.6.0,>=3.5.0->en-core-web-sm==3.5.0) (2.4.6)\n",
      "Requirement already satisfied: requests<3.0.0,>=2.13.0 in c:\\users\\korisnik\\pycharmprojects\\intens_solutions\\lib\\site-packages (from spacy<3.6.0,>=3.5.0->en-core-web-sm==3.5.0) (2.28.2)\n",
      "Requirement already satisfied: langcodes<4.0.0,>=3.2.0 in c:\\users\\korisnik\\pycharmprojects\\intens_solutions\\lib\\site-packages (from spacy<3.6.0,>=3.5.0->en-core-web-sm==3.5.0) (3.3.0)\n",
      "Requirement already satisfied: packaging>=20.0 in c:\\users\\korisnik\\pycharmprojects\\intens_solutions\\lib\\site-packages (from spacy<3.6.0,>=3.5.0->en-core-web-sm==3.5.0) (23.1)\n",
      "Requirement already satisfied: spacy-legacy<3.1.0,>=3.0.11 in c:\\users\\korisnik\\pycharmprojects\\intens_solutions\\lib\\site-packages (from spacy<3.6.0,>=3.5.0->en-core-web-sm==3.5.0) (3.0.12)\n",
      "Requirement already satisfied: pathy>=0.10.0 in c:\\users\\korisnik\\pycharmprojects\\intens_solutions\\lib\\site-packages (from spacy<3.6.0,>=3.5.0->en-core-web-sm==3.5.0) (0.10.1)\n",
      "Requirement already satisfied: numpy>=1.15.0 in c:\\users\\korisnik\\pycharmprojects\\intens_solutions\\lib\\site-packages (from spacy<3.6.0,>=3.5.0->en-core-web-sm==3.5.0) (1.24.2)\n",
      "Requirement already satisfied: cymem<2.1.0,>=2.0.2 in c:\\users\\korisnik\\pycharmprojects\\intens_solutions\\lib\\site-packages (from spacy<3.6.0,>=3.5.0->en-core-web-sm==3.5.0) (2.0.7)\n",
      "Requirement already satisfied: preshed<3.1.0,>=3.0.2 in c:\\users\\korisnik\\pycharmprojects\\intens_solutions\\lib\\site-packages (from spacy<3.6.0,>=3.5.0->en-core-web-sm==3.5.0) (3.0.8)\n",
      "Requirement already satisfied: pydantic!=1.8,!=1.8.1,<1.11.0,>=1.7.4 in c:\\users\\korisnik\\pycharmprojects\\intens_solutions\\lib\\site-packages (from spacy<3.6.0,>=3.5.0->en-core-web-sm==3.5.0) (1.10.7)\n",
      "Requirement already satisfied: murmurhash<1.1.0,>=0.28.0 in c:\\users\\korisnik\\pycharmprojects\\intens_solutions\\lib\\site-packages (from spacy<3.6.0,>=3.5.0->en-core-web-sm==3.5.0) (1.0.9)\n",
      "Requirement already satisfied: typer<0.8.0,>=0.3.0 in c:\\users\\korisnik\\pycharmprojects\\intens_solutions\\lib\\site-packages (from spacy<3.6.0,>=3.5.0->en-core-web-sm==3.5.0) (0.7.0)\n",
      "Requirement already satisfied: typing-extensions>=4.2.0 in c:\\users\\korisnik\\pycharmprojects\\intens_solutions\\lib\\site-packages (from pydantic!=1.8,!=1.8.1,<1.11.0,>=1.7.4->spacy<3.6.0,>=3.5.0->en-core-web-sm==3.5.0) (4.5.0)\n",
      "Requirement already satisfied: certifi>=2017.4.17 in c:\\users\\korisnik\\pycharmprojects\\intens_solutions\\lib\\site-packages (from requests<3.0.0,>=2.13.0->spacy<3.6.0,>=3.5.0->en-core-web-sm==3.5.0) (2022.12.7)\n",
      "Requirement already satisfied: idna<4,>=2.5 in c:\\users\\korisnik\\pycharmprojects\\intens_solutions\\lib\\site-packages (from requests<3.0.0,>=2.13.0->spacy<3.6.0,>=3.5.0->en-core-web-sm==3.5.0) (3.4)\n",
      "Requirement already satisfied: urllib3<1.27,>=1.21.1 in c:\\users\\korisnik\\pycharmprojects\\intens_solutions\\lib\\site-packages (from requests<3.0.0,>=2.13.0->spacy<3.6.0,>=3.5.0->en-core-web-sm==3.5.0) (1.26.15)\n",
      "Requirement already satisfied: charset-normalizer<4,>=2 in c:\\users\\korisnik\\pycharmprojects\\intens_solutions\\lib\\site-packages (from requests<3.0.0,>=2.13.0->spacy<3.6.0,>=3.5.0->en-core-web-sm==3.5.0) (3.1.0)\n",
      "Requirement already satisfied: confection<1.0.0,>=0.0.1 in c:\\users\\korisnik\\pycharmprojects\\intens_solutions\\lib\\site-packages (from thinc<8.2.0,>=8.1.8->spacy<3.6.0,>=3.5.0->en-core-web-sm==3.5.0) (0.0.4)\n",
      "Requirement already satisfied: blis<0.8.0,>=0.7.8 in c:\\users\\korisnik\\pycharmprojects\\intens_solutions\\lib\\site-packages (from thinc<8.2.0,>=8.1.8->spacy<3.6.0,>=3.5.0->en-core-web-sm==3.5.0) (0.7.9)\n",
      "Requirement already satisfied: colorama in c:\\users\\korisnik\\pycharmprojects\\intens_solutions\\lib\\site-packages (from tqdm<5.0.0,>=4.38.0->spacy<3.6.0,>=3.5.0->en-core-web-sm==3.5.0) (0.4.6)\n",
      "Requirement already satisfied: click<9.0.0,>=7.1.1 in c:\\users\\korisnik\\pycharmprojects\\intens_solutions\\lib\\site-packages (from typer<0.8.0,>=0.3.0->spacy<3.6.0,>=3.5.0->en-core-web-sm==3.5.0) (8.1.3)\n",
      "Requirement already satisfied: MarkupSafe>=2.0 in c:\\users\\korisnik\\pycharmprojects\\intens_solutions\\lib\\site-packages (from jinja2->spacy<3.6.0,>=3.5.0->en-core-web-sm==3.5.0) (2.1.2)\n",
      "Installing collected packages: en-core-web-sm\n",
      "Successfully installed en-core-web-sm-3.5.0\n",
      "\u001B[38;5;2m[+] Download and installation successful\u001B[0m\n",
      "You can now load the package via spacy.load('en_core_web_sm')\n"
     ]
    },
    {
     "name": "stderr",
     "output_type": "stream",
     "text": [
      "WARNING: You are using pip version 21.3.1; however, version 23.1.1 is available.\n",
      "You should consider upgrading via the 'C:\\Users\\Korisnik\\PycharmProjects\\Intens_Solutions\\Scripts\\python.exe -m pip install --upgrade pip' command.\n"
     ]
    }
   ],
   "source": [
    "!python -m spacy download en_core_web_sm"
   ],
   "metadata": {
    "collapsed": false,
    "pycharm": {
     "name": "#%%\n"
    }
   }
  },
  {
   "cell_type": "code",
   "execution_count": 52,
   "outputs": [],
   "source": [
    "import spacy"
   ],
   "metadata": {
    "collapsed": false,
    "pycharm": {
     "name": "#%%\n"
    }
   }
  },
  {
   "cell_type": "code",
   "execution_count": 53,
   "outputs": [
    {
     "data": {
      "text/plain": "<module 'spacy' from 'C:\\\\Users\\\\Korisnik\\\\PycharmProjects\\\\Intens_Solutions\\\\lib\\\\site-packages\\\\spacy\\\\__init__.py'>"
     },
     "execution_count": 53,
     "metadata": {},
     "output_type": "execute_result"
    }
   ],
   "source": [
    "spacy"
   ],
   "metadata": {
    "collapsed": false,
    "pycharm": {
     "name": "#%%\n"
    }
   }
  },
  {
   "cell_type": "code",
   "execution_count": 54,
   "outputs": [],
   "source": [
    "nlp = spacy.load(\"en_core_web_sm\")"
   ],
   "metadata": {
    "collapsed": false,
    "pycharm": {
     "name": "#%%\n"
    }
   }
  },
  {
   "cell_type": "code",
   "execution_count": 56,
   "outputs": [],
   "source": [
    "title_to_compare = \"The French Connection\""
   ],
   "metadata": {
    "collapsed": false,
    "pycharm": {
     "name": "#%%\n"
    }
   }
  },
  {
   "cell_type": "code",
   "execution_count": 57,
   "outputs": [],
   "source": [
    "def title_similarity(title):\n",
    "    return nlp(title).similarity(nlp(title_to_compare))"
   ],
   "metadata": {
    "collapsed": false,
    "pycharm": {
     "name": "#%%\n"
    }
   }
  },
  {
   "cell_type": "code",
   "execution_count": 61,
   "outputs": [
    {
     "name": "stderr",
     "output_type": "stream",
     "text": [
      "C:\\Users\\Korisnik\\AppData\\Local\\Temp\\ipykernel_19104\\822642808.py:2: UserWarning: [W007] The model you're using has no word vectors loaded, so the result of the Doc.similarity method will be based on the tagger, parser and NER, which may not give useful similarity judgements. This may happen if you're using one of the small models, e.g. `en_core_web_sm`, which don't ship with word vectors and only use context-sensitive tensors. You can always add your own word vectors, or use one of the larger models instead if available.\n",
      "  return nlp(title).similarity(nlp(title_to_compare))\n"
     ]
    }
   ],
   "source": [
    "df[\"similarity\"] = df[\"originalTitle\"].apply(title_similarity)"
   ],
   "metadata": {
    "collapsed": false,
    "pycharm": {
     "name": "#%%\n"
    }
   }
  },
  {
   "cell_type": "code",
   "execution_count": 62,
   "outputs": [
    {
     "data": {
      "text/plain": "          movieID titleType              primaryTitle   \n428804  tt0067116     movie     The French Connection  \\\n437485  tt0224582     movie    The Acadian Connection   \n94607   tt5133062     movie  The Brazilian Connection   \n343648  tt0037693     movie         The Fatal Witness   \n296380  tt1086057     short    The Italian Connection   \n266798  tt0047000     movie           The French Line   \n167082  tt0444633   tvMovie     The French Revolution   \n361120  tt8847712     movie       The French Dispatch   \n391334  tt8655594     movie  The Mongolian Connection   \n90650   tt3187378     movie      The Asian Connection   \n\n                   originalTitle                   genres  isAdult  startYear   \n428804     The French Connection                      NaN        0       1971  \\\n437485    The Acadian Connection                      NaN        0       1995   \n94607   The Brazilian Connection             Action,Crime        0       2019   \n343648         The Fatal Witness  Drama,Film-Noir,Mystery        0       1945   \n296380    The Italian Connection              Drama,Short        0       2007   \n266798           The French Line   Comedy,Musical,Romance        0       1953   \n167082     The French Revolution      Documentary,History        0       2005   \n361120       The French Dispatch     Comedy,Drama,Romance        0       2021   \n391334  The Mongolian Connection                   Action        0       2019   \n90650       The Asian Connection       Action,Crime,Drama        0       2016   \n\n       endYear  runtimeMinutes  averageRating  numVotes isGood  similarity  \n428804      \\N             104            7.7  121516.0  False    1.000000  \n437485      \\N              77            5.2       6.0  False    0.967389  \n94607       \\N              77            8.3      17.0  False    0.965916  \n343648      \\N              65            5.9     122.0  False    0.954540  \n296380      \\N              24            7.1      15.0  False    0.952325  \n266798      \\N             102            5.2     611.0  False    0.949424  \n167082      \\N             100            7.3     327.0   True    0.945747  \n361120      \\N             107            7.2  110318.0   True    0.945605  \n391334      \\N              90            5.5     386.0   True    0.942669  \n90650       \\N              90            3.2    1786.0  False    0.940551  ",
      "text/html": "<div>\n<style scoped>\n    .dataframe tbody tr th:only-of-type {\n        vertical-align: middle;\n    }\n\n    .dataframe tbody tr th {\n        vertical-align: top;\n    }\n\n    .dataframe thead th {\n        text-align: right;\n    }\n</style>\n<table border=\"1\" class=\"dataframe\">\n  <thead>\n    <tr style=\"text-align: right;\">\n      <th></th>\n      <th>movieID</th>\n      <th>titleType</th>\n      <th>primaryTitle</th>\n      <th>originalTitle</th>\n      <th>genres</th>\n      <th>isAdult</th>\n      <th>startYear</th>\n      <th>endYear</th>\n      <th>runtimeMinutes</th>\n      <th>averageRating</th>\n      <th>numVotes</th>\n      <th>isGood</th>\n      <th>similarity</th>\n    </tr>\n  </thead>\n  <tbody>\n    <tr>\n      <th>428804</th>\n      <td>tt0067116</td>\n      <td>movie</td>\n      <td>The French Connection</td>\n      <td>The French Connection</td>\n      <td>NaN</td>\n      <td>0</td>\n      <td>1971</td>\n      <td>\\N</td>\n      <td>104</td>\n      <td>7.7</td>\n      <td>121516.0</td>\n      <td>False</td>\n      <td>1.000000</td>\n    </tr>\n    <tr>\n      <th>437485</th>\n      <td>tt0224582</td>\n      <td>movie</td>\n      <td>The Acadian Connection</td>\n      <td>The Acadian Connection</td>\n      <td>NaN</td>\n      <td>0</td>\n      <td>1995</td>\n      <td>\\N</td>\n      <td>77</td>\n      <td>5.2</td>\n      <td>6.0</td>\n      <td>False</td>\n      <td>0.967389</td>\n    </tr>\n    <tr>\n      <th>94607</th>\n      <td>tt5133062</td>\n      <td>movie</td>\n      <td>The Brazilian Connection</td>\n      <td>The Brazilian Connection</td>\n      <td>Action,Crime</td>\n      <td>0</td>\n      <td>2019</td>\n      <td>\\N</td>\n      <td>77</td>\n      <td>8.3</td>\n      <td>17.0</td>\n      <td>False</td>\n      <td>0.965916</td>\n    </tr>\n    <tr>\n      <th>343648</th>\n      <td>tt0037693</td>\n      <td>movie</td>\n      <td>The Fatal Witness</td>\n      <td>The Fatal Witness</td>\n      <td>Drama,Film-Noir,Mystery</td>\n      <td>0</td>\n      <td>1945</td>\n      <td>\\N</td>\n      <td>65</td>\n      <td>5.9</td>\n      <td>122.0</td>\n      <td>False</td>\n      <td>0.954540</td>\n    </tr>\n    <tr>\n      <th>296380</th>\n      <td>tt1086057</td>\n      <td>short</td>\n      <td>The Italian Connection</td>\n      <td>The Italian Connection</td>\n      <td>Drama,Short</td>\n      <td>0</td>\n      <td>2007</td>\n      <td>\\N</td>\n      <td>24</td>\n      <td>7.1</td>\n      <td>15.0</td>\n      <td>False</td>\n      <td>0.952325</td>\n    </tr>\n    <tr>\n      <th>266798</th>\n      <td>tt0047000</td>\n      <td>movie</td>\n      <td>The French Line</td>\n      <td>The French Line</td>\n      <td>Comedy,Musical,Romance</td>\n      <td>0</td>\n      <td>1953</td>\n      <td>\\N</td>\n      <td>102</td>\n      <td>5.2</td>\n      <td>611.0</td>\n      <td>False</td>\n      <td>0.949424</td>\n    </tr>\n    <tr>\n      <th>167082</th>\n      <td>tt0444633</td>\n      <td>tvMovie</td>\n      <td>The French Revolution</td>\n      <td>The French Revolution</td>\n      <td>Documentary,History</td>\n      <td>0</td>\n      <td>2005</td>\n      <td>\\N</td>\n      <td>100</td>\n      <td>7.3</td>\n      <td>327.0</td>\n      <td>True</td>\n      <td>0.945747</td>\n    </tr>\n    <tr>\n      <th>361120</th>\n      <td>tt8847712</td>\n      <td>movie</td>\n      <td>The French Dispatch</td>\n      <td>The French Dispatch</td>\n      <td>Comedy,Drama,Romance</td>\n      <td>0</td>\n      <td>2021</td>\n      <td>\\N</td>\n      <td>107</td>\n      <td>7.2</td>\n      <td>110318.0</td>\n      <td>True</td>\n      <td>0.945605</td>\n    </tr>\n    <tr>\n      <th>391334</th>\n      <td>tt8655594</td>\n      <td>movie</td>\n      <td>The Mongolian Connection</td>\n      <td>The Mongolian Connection</td>\n      <td>Action</td>\n      <td>0</td>\n      <td>2019</td>\n      <td>\\N</td>\n      <td>90</td>\n      <td>5.5</td>\n      <td>386.0</td>\n      <td>True</td>\n      <td>0.942669</td>\n    </tr>\n    <tr>\n      <th>90650</th>\n      <td>tt3187378</td>\n      <td>movie</td>\n      <td>The Asian Connection</td>\n      <td>The Asian Connection</td>\n      <td>Action,Crime,Drama</td>\n      <td>0</td>\n      <td>2016</td>\n      <td>\\N</td>\n      <td>90</td>\n      <td>3.2</td>\n      <td>1786.0</td>\n      <td>False</td>\n      <td>0.940551</td>\n    </tr>\n  </tbody>\n</table>\n</div>"
     },
     "execution_count": 62,
     "metadata": {},
     "output_type": "execute_result"
    }
   ],
   "source": [
    "top10 = df.sort_values(\"similarity\", ascending= False).head(10)\n",
    "top10"
   ],
   "metadata": {
    "collapsed": false,
    "pycharm": {
     "name": "#%%\n"
    }
   }
  },
  {
   "cell_type": "code",
   "execution_count": 63,
   "outputs": [],
   "source": [
    "titles = \"\".join(df[\"originalTitle\"])"
   ],
   "metadata": {
    "collapsed": false,
    "pycharm": {
     "name": "#%%\n"
    }
   }
  },
  {
   "cell_type": "code",
   "execution_count": 66,
   "outputs": [],
   "source": [
    "titles = titles.lower()\n",
    "titles = titles.split()"
   ],
   "metadata": {
    "collapsed": false,
    "pycharm": {
     "name": "#%%\n"
    }
   }
  },
  {
   "cell_type": "code",
   "execution_count": 70,
   "outputs": [],
   "source": [
    "words = [word for word in titles if word.isalnum()]"
   ],
   "metadata": {
    "collapsed": false,
    "pycharm": {
     "name": "#%%\n"
    }
   }
  },
  {
   "cell_type": "code",
   "execution_count": 73,
   "outputs": [],
   "source": [
    "words_frequency = {}"
   ],
   "metadata": {
    "collapsed": false,
    "pycharm": {
     "name": "#%%\n"
    }
   }
  },
  {
   "cell_type": "code",
   "execution_count": 74,
   "outputs": [],
   "source": [
    "for word in words:\n",
    "    if word in words_frequency:\n",
    "        words_frequency[word] += 1\n",
    "    else:\n",
    "        words_frequency[word] = 1\n"
   ],
   "metadata": {
    "collapsed": false,
    "pycharm": {
     "name": "#%%\n"
    }
   }
  },
  {
   "cell_type": "code",
   "execution_count": 76,
   "outputs": [],
   "source": [
    "frequency_df = pd.DataFrame.from_dict(words_frequency, orient=\"index\", columns=[\"frequency\"])"
   ],
   "metadata": {
    "collapsed": false,
    "pycharm": {
     "name": "#%%\n"
    }
   }
  },
  {
   "cell_type": "code",
   "execution_count": 77,
   "outputs": [],
   "source": [
    "frequency_df = frequency_df.sort_values(by=\"frequency\", ascending=False)"
   ],
   "metadata": {
    "collapsed": false,
    "pycharm": {
     "name": "#%%\n"
    }
   }
  },
  {
   "cell_type": "code",
   "execution_count": 78,
   "outputs": [
    {
     "name": "stdout",
     "output_type": "stream",
     "text": [
      "     frequency\n",
      "the      38018\n",
      "of       28778\n",
      "a        10719\n",
      "in        9961\n",
      "de        9665\n",
      "and       9261\n",
      "to        7345\n",
      "no        4496\n",
      "la        3892\n",
      "for       3871\n"
     ]
    }
   ],
   "source": [
    "print(frequency_df.head(10))"
   ],
   "metadata": {
    "collapsed": false,
    "pycharm": {
     "name": "#%%\n"
    }
   }
  },
  {
   "cell_type": "code",
   "execution_count": 79,
   "outputs": [],
   "source": [
    "repsonse = requests.get(\"https://api.coindesk.com/v1/bpi/currentprice.json\")\n",
    "data = repsonse.json()"
   ],
   "metadata": {
    "collapsed": false,
    "pycharm": {
     "name": "#%%\n"
    }
   }
  },
  {
   "cell_type": "code",
   "execution_count": 80,
   "outputs": [
    {
     "data": {
      "text/plain": "{'time': {'updated': 'Apr 23, 2023 21:08:00 UTC',\n  'updatedISO': '2023-04-23T21:08:00+00:00',\n  'updateduk': 'Apr 23, 2023 at 22:08 BST'},\n 'disclaimer': 'This data was produced from the CoinDesk Bitcoin Price Index (USD). Non-USD currency data converted using hourly conversion rate from openexchangerates.org',\n 'chartName': 'Bitcoin',\n 'bpi': {'USD': {'code': 'USD',\n   'symbol': '&#36;',\n   'rate': '27,536.9232',\n   'description': 'United States Dollar',\n   'rate_float': 27536.9232},\n  'GBP': {'code': 'GBP',\n   'symbol': '&pound;',\n   'rate': '23,009.6327',\n   'description': 'British Pound Sterling',\n   'rate_float': 23009.6327},\n  'EUR': {'code': 'EUR',\n   'symbol': '&euro;',\n   'rate': '26,824.9836',\n   'description': 'Euro',\n   'rate_float': 26824.9836}}}"
     },
     "execution_count": 80,
     "metadata": {},
     "output_type": "execute_result"
    }
   ],
   "source": [
    "data"
   ],
   "metadata": {
    "collapsed": false,
    "pycharm": {
     "name": "#%%\n"
    }
   }
  },
  {
   "cell_type": "code",
   "execution_count": 84,
   "outputs": [
    {
     "data": {
      "text/plain": "27536.9232"
     },
     "execution_count": 84,
     "metadata": {},
     "output_type": "execute_result"
    }
   ],
   "source": [
    "bpi = data[\"bpi\"]\n",
    "usd_float_rate = data[\"bpi\"][\"USD\"][\"rate_float\"]\n",
    "usd_float_rate"
   ],
   "metadata": {
    "collapsed": false,
    "pycharm": {
     "name": "#%%\n"
    }
   }
  },
  {
   "cell_type": "code",
   "execution_count": 85,
   "outputs": [
    {
     "data": {
      "text/plain": "{'USD': {'code': 'USD',\n  'symbol': '&#36;',\n  'rate': '27,536.9232',\n  'description': 'United States Dollar',\n  'rate_float': 27536.9232},\n 'GBP': {'code': 'GBP',\n  'symbol': '&pound;',\n  'rate': '23,009.6327',\n  'description': 'British Pound Sterling',\n  'rate_float': 23009.6327},\n 'EUR': {'code': 'EUR',\n  'symbol': '&euro;',\n  'rate': '26,824.9836',\n  'description': 'Euro',\n  'rate_float': 26824.9836}}"
     },
     "execution_count": 85,
     "metadata": {},
     "output_type": "execute_result"
    }
   ],
   "source": [
    "bpi"
   ],
   "metadata": {
    "collapsed": false,
    "pycharm": {
     "name": "#%%\n"
    }
   }
  },
  {
   "cell_type": "code",
   "execution_count": null,
   "outputs": [],
   "source": [],
   "metadata": {
    "collapsed": false,
    "pycharm": {
     "name": "#%%\n"
    }
   }
  }
 ],
 "metadata": {
  "kernelspec": {
   "display_name": "Python 3 (ipykernel)",
   "language": "python",
   "name": "python3"
  },
  "language_info": {
   "codemirror_mode": {
    "name": "ipython",
    "version": 3
   },
   "file_extension": ".py",
   "mimetype": "text/x-python",
   "name": "python",
   "nbconvert_exporter": "python",
   "pygments_lexer": "ipython3",
   "version": "3.10.4"
  }
 },
 "nbformat": 4,
 "nbformat_minor": 1
}